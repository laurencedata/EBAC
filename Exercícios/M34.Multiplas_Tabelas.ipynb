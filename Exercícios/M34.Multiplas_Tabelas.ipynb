{
  "cells": [
    {
      "cell_type": "markdown",
      "metadata": {
        "id": "KJqp9AANOCtf"
      },
      "source": [
        "<img src=\"https://raw.githubusercontent.com/andre-marcos-perez/ebac-course-utils/main/media/logo/newebac_logo_black_half.png\" alt=\"ebac-logo\">\n",
        "\n",
        "---\n",
        "\n",
        "# **Módulo** | SQL: Trabalhando com Múltiplas Tabelas\n",
        "Caderno de **Exercícios**<br> \n",
        "Professor [Mariane Neiva](www.linkedin.com/in/mariane-neiva)\n",
        "\n",
        "---"
      ]
    },
    {
      "cell_type": "markdown",
      "metadata": {
        "id": "d9jDtUbDOE1-"
      },
      "source": [
        "# **Tópicos**\n",
        "\n",
        "<ol type=\"1\">\n",
        "  <li>Union;</li>\n",
        "  <li>Junções: inner / cross;</li>\n",
        "  <li>Junções: left / right;</li>\n",
        "</ol>"
      ]
    },
    {
      "cell_type": "markdown",
      "metadata": {
        "id": "SmoHgt-lwkpD"
      },
      "source": [
        "---"
      ]
    },
    {
      "cell_type": "markdown",
      "metadata": {
        "id": "DIlQOznoTPQF"
      },
      "source": [
        "# **Instruções**\n",
        "\n",
        "Neste exercícios, vamos configurar e testar os serviços AWS S3 e AWS Athena da plataforma de computação em nuvem da AWS para utilizarmos durante todo o curso: \n",
        "\n",
        "Na etapa de **configuração**, você deve seguir o passo a passo de configuração do ambiente, não há entregáveis.\n",
        "\n",
        "Na etapa de **atividades**, você deve:\n",
        "\n",
        " 1. Eexecutar a consulta SQL fornecida;\n",
        " 2. Exportar os resultados em um arquivo csv para sua máquina; \n",
        " 3. Renomear o arquivo como **query_\\<numero-da-query>.csv**;\n",
        " 4. Enviar para a avaliação do tutor na plataforma da EBAC.\n",
        "\n",
        "> **Atenção**: Substitua o **\\<numero-da-query>** numero da consulta, exemplo: **query_1.csv**.\n",
        "\n"
      ]
    },
    {
      "cell_type": "markdown",
      "metadata": {
        "id": "vvlBORqbTPQp"
      },
      "source": [
        "---"
      ]
    },
    {
      "cell_type": "markdown",
      "metadata": {
        "id": "GABI6OW8OfQ2"
      },
      "source": [
        "# **Configuração**"
      ]
    },
    {
      "cell_type": "markdown",
      "metadata": {
        "id": "jdIScjXVWoHU"
      },
      "source": [
        "## 1\\. Configurando o AWS S3"
      ]
    },
    {
      "cell_type": "markdown",
      "metadata": {
        "id": "OCY24c61WoHW"
      },
      "source": [
        "1. Acesse AWS S3;\n",
        "2. Crie um novo bucket:\n",
        " *   **modulo6-<seu-nome\\>-ebac** \n",
        "3. Crie duas pastas dentro do bucket **modulo6-<seu-nome\\>-ebac**:\n",
        " *   **cliente**\n",
        " * **transacoes**\n",
        "4. Na pasta modulo6-<seu-nome\\>-ebac/cliente, carregue o arquivo **cliente.csv**\n",
        "5. Na pasta modulo6-<seu-nome\\>-ebac/transacoes, carregue o arquivo **transacoes.csv**\n",
        "\n",
        "> **Atenção**: Caso o bucket já exista, sinta-se a vontade para escolher o nome que desejar.\n",
        "\n",
        " > **Atenção**: Os arquivo **cliente.csv** e **transacoes.csv** está na plataforma da EBAC."
      ]
    },
    {
      "cell_type": "markdown",
      "metadata": {
        "id": "k4HJwfbQcEQw"
      },
      "source": [
        "# Atividades"
      ]
    },
    {
      "cell_type": "markdown",
      "metadata": {
        "id": "Lyqe05QXcERP"
      },
      "source": [
        "# **1. Criação da tabela** "
      ]
    },
    {
      "cell_type": "markdown",
      "metadata": {
        "id": "Rq7i2Tb4cERP"
      },
      "source": [
        "No console do AWS Athena, execute a seguinte query:\n",
        "\n",
        "```sql\n",
        "CREATE EXTERNAL TABLE IF NOT EXISTS default.cliente (\n",
        "  `id_cliente` int,\n",
        "  `nome` string, \n",
        "  `valor_compra` double,\n",
        "  `loja_cadastro` string \n",
        ")\n",
        "ROW FORMAT SERDE 'org.apache.hadoop.hive.serde2.lazy.LazySimpleSerDe'\n",
        "WITH SERDEPROPERTIES (\n",
        "  'serialization.format' = ',',\n",
        "  'field.delim' = ','\n",
        ") LOCATION 's3://bucket-laurence/cliente/'\n",
        "TBLPROPERTIES ('has_encrypted_data'='false');\n",
        "```\n",
        "e\n",
        "\n",
        "```sql\n",
        "CREATE EXTERNAL TABLE IF NOT EXISTS default.transacoes (\n",
        "  `id_cliente` int,\n",
        "  `id_transacao` int,\n",
        "  `valor_compra` double,\n",
        "  `id_loja` string \n",
        ")\n",
        "ROW FORMAT SERDE 'org.apache.hadoop.hive.serde2.lazy.LazySimpleSerDe'\n",
        "WITH SERDEPROPERTIES (\n",
        "  'serialization.format' = ',',\n",
        "  'field.delim' = ','\n",
        ") LOCATION 's3://bucket-laurence/transacoes/'\n",
        "TBLPROPERTIES ('has_encrypted_data'='false');\n",
        "```\n",
        "\n",
        "Para cada uma das queries, no painel de resultados, você deve encontrar o seguinte resultado.\n",
        "\n",
        "```\n",
        "Query successful.\n",
        "```\n",
        "\n",
        "\n",
        "> **Atenção**: No campo LOCATION, substitua o **\\<seu-nome>** pelo seu primeiro nome, exemplo: **modulo6-mari-ebac**.\n",
        "\n",
        "> **Atenção**: Nesta atividade, você não precisa exportar os resultados."
      ]
    },
    {
      "cell_type": "markdown",
      "metadata": {
        "id": "0cbohKQegVk7"
      },
      "source": [
        "# **2. Função UNION** "
      ]
    },
    {
      "cell_type": "markdown",
      "metadata": {
        "id": "0Airo3E0h5Ik"
      },
      "source": [
        "## 2.1. Query 1 "
      ]
    },
    {
      "cell_type": "markdown",
      "metadata": {
        "id": "2m92meC8gVk9"
      },
      "source": [
        "No console do AWS Athena, execute a seguinte query:\n",
        "\n",
        "```sql\n",
        "SELECT id_cliente FROM transacoes\n",
        "UNION\n",
        "SELECT id_cliente  FROM cliente;\n",
        "```\n",
        "\n",
        "No painel de resultados você deve encontrar o seguinte resultado.\n",
        "\n",
        "|id_cliente|\n",
        "|-|\n",
        "|3|\n",
        "|1|\n",
        "|4|\n",
        "|5|\n",
        "|6|\n",
        "|2|\n",
        "\n",
        "> **Atenção**: Extraia os resultados para o arquivo CSV através do botão de download e renomei-o com o número da query. Voce deve envia-lo para os tutores de EBAC."
      ]
    },
    {
      "cell_type": "code",
      "execution_count": 1,
      "metadata": {},
      "outputs": [
        {
          "data": {
            "text/html": [
              "<div>\n",
              "<style scoped>\n",
              "    .dataframe tbody tr th:only-of-type {\n",
              "        vertical-align: middle;\n",
              "    }\n",
              "\n",
              "    .dataframe tbody tr th {\n",
              "        vertical-align: top;\n",
              "    }\n",
              "\n",
              "    .dataframe thead th {\n",
              "        text-align: right;\n",
              "    }\n",
              "</style>\n",
              "<table border=\"1\" class=\"dataframe\">\n",
              "  <thead>\n",
              "    <tr style=\"text-align: right;\">\n",
              "      <th></th>\n",
              "      <th>id_cliente</th>\n",
              "    </tr>\n",
              "  </thead>\n",
              "  <tbody>\n",
              "    <tr>\n",
              "      <th>0</th>\n",
              "      <td>3</td>\n",
              "    </tr>\n",
              "    <tr>\n",
              "      <th>1</th>\n",
              "      <td>5</td>\n",
              "    </tr>\n",
              "    <tr>\n",
              "      <th>2</th>\n",
              "      <td>2</td>\n",
              "    </tr>\n",
              "    <tr>\n",
              "      <th>3</th>\n",
              "      <td>4</td>\n",
              "    </tr>\n",
              "    <tr>\n",
              "      <th>4</th>\n",
              "      <td>1</td>\n",
              "    </tr>\n",
              "  </tbody>\n",
              "</table>\n",
              "</div>"
            ],
            "text/plain": [
              "   id_cliente\n",
              "0           3\n",
              "1           5\n",
              "2           2\n",
              "3           4\n",
              "4           1"
            ]
          },
          "execution_count": 1,
          "metadata": {},
          "output_type": "execute_result"
        }
      ],
      "source": [
        "import pandas as pd\n",
        "\n",
        "query1 = pd.read_csv(\"query1.csv\")\n",
        "query1.head()"
      ]
    },
    {
      "cell_type": "markdown",
      "metadata": {
        "id": "SHjoPsx2JFw8"
      },
      "source": [
        "# **3.Junções inner/cross**\n",
        "\n",
        "Vamos trabalhar agora a união inner e cruzamento de tabelas\n",
        "\n",
        "\n",
        "\n"
      ]
    },
    {
      "cell_type": "markdown",
      "metadata": {
        "id": "cNocCBKQJVea"
      },
      "source": [
        "## 3.1 Query 2 \n",
        "\n",
        "No console do AWS Athena, execute a seguinte query:\n",
        "\n",
        "```sql\n",
        "SELECT transacoes.id_cliente, cliente.nome\n",
        "FROM transacoes\n",
        "INNER JOIN cliente\n",
        "ON transacoes.id_cliente = cliente.id_cliente;\n",
        "```\n",
        "\n",
        "No painel de resultados você deve encontrar o seguinte resultado.\n",
        "\n",
        "|id_cliente|nome|\n",
        "|-|-|\n",
        "|1|maria|\n",
        "|2|valentina\n",
        "|1|maria|\n",
        "|1|maria|\n",
        "|4|joana|\n",
        "|5|jose|\n",
        "\n",
        "> **Atenção**: Extraia os resultados para o arquivo CSV através do botão de download e renomei-o com o número da query. Voce deve envia-lo para os tutores de EBAC."
      ]
    },
    {
      "cell_type": "code",
      "execution_count": 2,
      "metadata": {},
      "outputs": [
        {
          "data": {
            "text/html": [
              "<div>\n",
              "<style scoped>\n",
              "    .dataframe tbody tr th:only-of-type {\n",
              "        vertical-align: middle;\n",
              "    }\n",
              "\n",
              "    .dataframe tbody tr th {\n",
              "        vertical-align: top;\n",
              "    }\n",
              "\n",
              "    .dataframe thead th {\n",
              "        text-align: right;\n",
              "    }\n",
              "</style>\n",
              "<table border=\"1\" class=\"dataframe\">\n",
              "  <thead>\n",
              "    <tr style=\"text-align: right;\">\n",
              "      <th></th>\n",
              "      <th>id_cliente</th>\n",
              "      <th>nome</th>\n",
              "    </tr>\n",
              "  </thead>\n",
              "  <tbody>\n",
              "    <tr>\n",
              "      <th>0</th>\n",
              "      <td>1</td>\n",
              "      <td>maria</td>\n",
              "    </tr>\n",
              "    <tr>\n",
              "      <th>1</th>\n",
              "      <td>2</td>\n",
              "      <td>valentina</td>\n",
              "    </tr>\n",
              "    <tr>\n",
              "      <th>2</th>\n",
              "      <td>1</td>\n",
              "      <td>maria</td>\n",
              "    </tr>\n",
              "    <tr>\n",
              "      <th>3</th>\n",
              "      <td>1</td>\n",
              "      <td>maria</td>\n",
              "    </tr>\n",
              "    <tr>\n",
              "      <th>4</th>\n",
              "      <td>4</td>\n",
              "      <td>joana</td>\n",
              "    </tr>\n",
              "  </tbody>\n",
              "</table>\n",
              "</div>"
            ],
            "text/plain": [
              "   id_cliente       nome\n",
              "0           1      maria\n",
              "1           2  valentina\n",
              "2           1      maria\n",
              "3           1      maria\n",
              "4           4      joana"
            ]
          },
          "execution_count": 2,
          "metadata": {},
          "output_type": "execute_result"
        }
      ],
      "source": [
        "query2 = pd.read_csv(\"query2.csv\")\n",
        "query2.head()"
      ]
    },
    {
      "cell_type": "markdown",
      "metadata": {
        "id": "8O5UmLCdJX4h"
      },
      "source": [
        "## 3.2. Query 3\n",
        "\n",
        "No console do AWS Athena, execute a seguinte query:\n",
        "\n",
        "```sql\n",
        "SELECT *\n",
        "FROM cliente\n",
        "CROSS JOIN transacoes;\n",
        "```\n",
        "\n",
        "Parte do resultado pode ser visto [aqui](https://drive.google.com/file/d/1mZytFFn6lkOtzGRmy7lgvbTJ3PsamGNX/view?usp=sharing)\n",
        "\n",
        "> **Atenção**: Extraia os resultados para o arquivo CSV através do botão de download e renomei-o com o número da query. Voce deve envia-lo para os tutores de EBAC."
      ]
    },
    {
      "cell_type": "code",
      "execution_count": 3,
      "metadata": {},
      "outputs": [
        {
          "data": {
            "text/html": [
              "<div>\n",
              "<style scoped>\n",
              "    .dataframe tbody tr th:only-of-type {\n",
              "        vertical-align: middle;\n",
              "    }\n",
              "\n",
              "    .dataframe tbody tr th {\n",
              "        vertical-align: top;\n",
              "    }\n",
              "\n",
              "    .dataframe thead th {\n",
              "        text-align: right;\n",
              "    }\n",
              "</style>\n",
              "<table border=\"1\" class=\"dataframe\">\n",
              "  <thead>\n",
              "    <tr style=\"text-align: right;\">\n",
              "      <th></th>\n",
              "      <th>id_cliente</th>\n",
              "      <th>nome</th>\n",
              "      <th>valor_compra</th>\n",
              "      <th>loja_cadastro</th>\n",
              "      <th>id_cliente.1</th>\n",
              "      <th>id_transacao</th>\n",
              "      <th>valor_compra.1</th>\n",
              "      <th>id_loja</th>\n",
              "    </tr>\n",
              "  </thead>\n",
              "  <tbody>\n",
              "    <tr>\n",
              "      <th>0</th>\n",
              "      <td>5</td>\n",
              "      <td>jose</td>\n",
              "      <td>500.43</td>\n",
              "      <td>cea</td>\n",
              "      <td>1</td>\n",
              "      <td>768805383</td>\n",
              "      <td>50.74</td>\n",
              "      <td>magalu</td>\n",
              "    </tr>\n",
              "    <tr>\n",
              "      <th>1</th>\n",
              "      <td>5</td>\n",
              "      <td>jose</td>\n",
              "      <td>500.43</td>\n",
              "      <td>cea</td>\n",
              "      <td>2</td>\n",
              "      <td>768805399</td>\n",
              "      <td>30.90</td>\n",
              "      <td>giraffas</td>\n",
              "    </tr>\n",
              "    <tr>\n",
              "      <th>2</th>\n",
              "      <td>5</td>\n",
              "      <td>jose</td>\n",
              "      <td>500.43</td>\n",
              "      <td>cea</td>\n",
              "      <td>3</td>\n",
              "      <td>818770008</td>\n",
              "      <td>110.00</td>\n",
              "      <td>postoshell</td>\n",
              "    </tr>\n",
              "    <tr>\n",
              "      <th>3</th>\n",
              "      <td>5</td>\n",
              "      <td>jose</td>\n",
              "      <td>500.43</td>\n",
              "      <td>cea</td>\n",
              "      <td>1</td>\n",
              "      <td>76856563</td>\n",
              "      <td>2000.90</td>\n",
              "      <td>magalu</td>\n",
              "    </tr>\n",
              "    <tr>\n",
              "      <th>4</th>\n",
              "      <td>5</td>\n",
              "      <td>jose</td>\n",
              "      <td>500.43</td>\n",
              "      <td>cea</td>\n",
              "      <td>1</td>\n",
              "      <td>767573759</td>\n",
              "      <td>15.70</td>\n",
              "      <td>subway</td>\n",
              "    </tr>\n",
              "  </tbody>\n",
              "</table>\n",
              "</div>"
            ],
            "text/plain": [
              "   id_cliente  nome  valor_compra loja_cadastro  id_cliente.1  id_transacao  \\\n",
              "0           5  jose        500.43           cea             1     768805383   \n",
              "1           5  jose        500.43           cea             2     768805399   \n",
              "2           5  jose        500.43           cea             3     818770008   \n",
              "3           5  jose        500.43           cea             1      76856563   \n",
              "4           5  jose        500.43           cea             1     767573759   \n",
              "\n",
              "   valor_compra.1     id_loja  \n",
              "0           50.74      magalu  \n",
              "1           30.90    giraffas  \n",
              "2          110.00  postoshell  \n",
              "3         2000.90      magalu  \n",
              "4           15.70      subway  "
            ]
          },
          "execution_count": 3,
          "metadata": {},
          "output_type": "execute_result"
        }
      ],
      "source": [
        "query3 = pd.read_csv(\"query3.csv\")\n",
        "query3.head()"
      ]
    },
    {
      "cell_type": "markdown",
      "metadata": {
        "id": "H4hIfbRVJaUk"
      },
      "source": [
        "# **4. Junções: left / right**"
      ]
    },
    {
      "cell_type": "markdown",
      "metadata": {
        "id": "B7ogcizXJffQ"
      },
      "source": [
        "## 4.1 Query 4\n",
        "\n",
        "No console do AWS Athena, execute a seguinte query:\n",
        "\n",
        "```sql\n",
        "SELECT *\n",
        "FROM transacoes\n",
        "LEFT JOIN cliente \n",
        "ON cliente.id_cliente = transacoes.id_cliente;\n",
        "```\n",
        "\n",
        "O resultado pode ser visto [aqui](https://drive.google.com/file/d/1rFJE53qHPft_bpb_5_JmlU2VI72lI4lL/view?usp=sharing)\n",
        "\n",
        "> **Atenção**: Extraia os resultados para o arquivo CSV através do botão de download e renomei-o com o número da query. Voce deve envia-lo para os tutores de EBAC."
      ]
    },
    {
      "cell_type": "code",
      "execution_count": 4,
      "metadata": {},
      "outputs": [
        {
          "data": {
            "text/html": [
              "<div>\n",
              "<style scoped>\n",
              "    .dataframe tbody tr th:only-of-type {\n",
              "        vertical-align: middle;\n",
              "    }\n",
              "\n",
              "    .dataframe tbody tr th {\n",
              "        vertical-align: top;\n",
              "    }\n",
              "\n",
              "    .dataframe thead th {\n",
              "        text-align: right;\n",
              "    }\n",
              "</style>\n",
              "<table border=\"1\" class=\"dataframe\">\n",
              "  <thead>\n",
              "    <tr style=\"text-align: right;\">\n",
              "      <th></th>\n",
              "      <th>id_cliente</th>\n",
              "      <th>id_transacao</th>\n",
              "      <th>valor_compra</th>\n",
              "      <th>id_loja</th>\n",
              "      <th>id_cliente.1</th>\n",
              "      <th>nome</th>\n",
              "      <th>valor_compra.1</th>\n",
              "      <th>loja_cadastro</th>\n",
              "    </tr>\n",
              "  </thead>\n",
              "  <tbody>\n",
              "    <tr>\n",
              "      <th>0</th>\n",
              "      <td>1</td>\n",
              "      <td>768805383</td>\n",
              "      <td>50.74</td>\n",
              "      <td>magalu</td>\n",
              "      <td>1.0</td>\n",
              "      <td>maria</td>\n",
              "      <td>150.70</td>\n",
              "      <td>riachuelo</td>\n",
              "    </tr>\n",
              "    <tr>\n",
              "      <th>1</th>\n",
              "      <td>2</td>\n",
              "      <td>768805399</td>\n",
              "      <td>30.90</td>\n",
              "      <td>giraffas</td>\n",
              "      <td>2.0</td>\n",
              "      <td>valentina</td>\n",
              "      <td>210.99</td>\n",
              "      <td>zara</td>\n",
              "    </tr>\n",
              "    <tr>\n",
              "      <th>2</th>\n",
              "      <td>3</td>\n",
              "      <td>818770008</td>\n",
              "      <td>110.00</td>\n",
              "      <td>postoshell</td>\n",
              "      <td>NaN</td>\n",
              "      <td>NaN</td>\n",
              "      <td>NaN</td>\n",
              "      <td>NaN</td>\n",
              "    </tr>\n",
              "    <tr>\n",
              "      <th>3</th>\n",
              "      <td>1</td>\n",
              "      <td>76856563</td>\n",
              "      <td>2000.90</td>\n",
              "      <td>magalu</td>\n",
              "      <td>1.0</td>\n",
              "      <td>maria</td>\n",
              "      <td>150.70</td>\n",
              "      <td>riachuelo</td>\n",
              "    </tr>\n",
              "    <tr>\n",
              "      <th>4</th>\n",
              "      <td>1</td>\n",
              "      <td>767573759</td>\n",
              "      <td>15.70</td>\n",
              "      <td>subway</td>\n",
              "      <td>1.0</td>\n",
              "      <td>maria</td>\n",
              "      <td>150.70</td>\n",
              "      <td>riachuelo</td>\n",
              "    </tr>\n",
              "  </tbody>\n",
              "</table>\n",
              "</div>"
            ],
            "text/plain": [
              "   id_cliente  id_transacao  valor_compra     id_loja  id_cliente.1  \\\n",
              "0           1     768805383         50.74      magalu           1.0   \n",
              "1           2     768805399         30.90    giraffas           2.0   \n",
              "2           3     818770008        110.00  postoshell           NaN   \n",
              "3           1      76856563       2000.90      magalu           1.0   \n",
              "4           1     767573759         15.70      subway           1.0   \n",
              "\n",
              "        nome  valor_compra.1 loja_cadastro  \n",
              "0      maria          150.70    riachuelo   \n",
              "1  valentina          210.99          zara  \n",
              "2        NaN             NaN           NaN  \n",
              "3      maria          150.70    riachuelo   \n",
              "4      maria          150.70    riachuelo   "
            ]
          },
          "execution_count": 4,
          "metadata": {},
          "output_type": "execute_result"
        }
      ],
      "source": [
        "query4 = pd.read_csv(\"query4.csv\")\n",
        "query4.head()"
      ]
    },
    {
      "cell_type": "markdown",
      "metadata": {
        "id": "TdPhadO3JizI"
      },
      "source": [
        "## 4.2 Query 5\n",
        "\n",
        "No console do AWS Athena, execute a seguinte query:\n",
        "\n",
        "```sql\n",
        "SELECT *\n",
        "FROM transacoes\n",
        "RIGHT JOIN cliente \n",
        "ON cliente.id_cliente = transacoes.id_cliente;\n",
        "```\n",
        "\n",
        "O resultado pode ser visto [aqui](https://drive.google.com/file/d/1Krr1tiDfn2wX6XzQUCYt5Z3jIfLYkCtl/view?usp=sharing)\n",
        "\n",
        "> **Atenção**: Extraia os resultados para o arquivo CSV através do botão de download e renomei-o com o número da query. Voce deve envia-lo para os tutores de EBAC."
      ]
    },
    {
      "cell_type": "code",
      "execution_count": 5,
      "metadata": {},
      "outputs": [
        {
          "data": {
            "text/html": [
              "<div>\n",
              "<style scoped>\n",
              "    .dataframe tbody tr th:only-of-type {\n",
              "        vertical-align: middle;\n",
              "    }\n",
              "\n",
              "    .dataframe tbody tr th {\n",
              "        vertical-align: top;\n",
              "    }\n",
              "\n",
              "    .dataframe thead th {\n",
              "        text-align: right;\n",
              "    }\n",
              "</style>\n",
              "<table border=\"1\" class=\"dataframe\">\n",
              "  <thead>\n",
              "    <tr style=\"text-align: right;\">\n",
              "      <th></th>\n",
              "      <th>id_cliente</th>\n",
              "      <th>id_transacao</th>\n",
              "      <th>valor_compra</th>\n",
              "      <th>id_loja</th>\n",
              "      <th>id_cliente.1</th>\n",
              "      <th>nome</th>\n",
              "      <th>valor_compra.1</th>\n",
              "      <th>loja_cadastro</th>\n",
              "    </tr>\n",
              "  </thead>\n",
              "  <tbody>\n",
              "    <tr>\n",
              "      <th>0</th>\n",
              "      <td>1.0</td>\n",
              "      <td>768805383.0</td>\n",
              "      <td>50.74</td>\n",
              "      <td>magalu</td>\n",
              "      <td>1</td>\n",
              "      <td>maria</td>\n",
              "      <td>150.70</td>\n",
              "      <td>riachuelo</td>\n",
              "    </tr>\n",
              "    <tr>\n",
              "      <th>1</th>\n",
              "      <td>2.0</td>\n",
              "      <td>768805399.0</td>\n",
              "      <td>30.90</td>\n",
              "      <td>giraffas</td>\n",
              "      <td>2</td>\n",
              "      <td>valentina</td>\n",
              "      <td>210.99</td>\n",
              "      <td>zara</td>\n",
              "    </tr>\n",
              "    <tr>\n",
              "      <th>2</th>\n",
              "      <td>1.0</td>\n",
              "      <td>76856563.0</td>\n",
              "      <td>2000.90</td>\n",
              "      <td>magalu</td>\n",
              "      <td>1</td>\n",
              "      <td>maria</td>\n",
              "      <td>150.70</td>\n",
              "      <td>riachuelo</td>\n",
              "    </tr>\n",
              "    <tr>\n",
              "      <th>3</th>\n",
              "      <td>1.0</td>\n",
              "      <td>767573759.0</td>\n",
              "      <td>15.70</td>\n",
              "      <td>subway</td>\n",
              "      <td>1</td>\n",
              "      <td>maria</td>\n",
              "      <td>150.70</td>\n",
              "      <td>riachuelo</td>\n",
              "    </tr>\n",
              "    <tr>\n",
              "      <th>4</th>\n",
              "      <td>4.0</td>\n",
              "      <td>764545534.0</td>\n",
              "      <td>50.74</td>\n",
              "      <td>extra</td>\n",
              "      <td>4</td>\n",
              "      <td>joana</td>\n",
              "      <td>1300.50</td>\n",
              "      <td>pontofrio</td>\n",
              "    </tr>\n",
              "  </tbody>\n",
              "</table>\n",
              "</div>"
            ],
            "text/plain": [
              "   id_cliente  id_transacao  valor_compra   id_loja  id_cliente.1       nome  \\\n",
              "0         1.0   768805383.0         50.74    magalu             1      maria   \n",
              "1         2.0   768805399.0         30.90  giraffas             2  valentina   \n",
              "2         1.0    76856563.0       2000.90    magalu             1      maria   \n",
              "3         1.0   767573759.0         15.70    subway             1      maria   \n",
              "4         4.0   764545534.0         50.74     extra             4      joana   \n",
              "\n",
              "   valor_compra.1 loja_cadastro  \n",
              "0          150.70    riachuelo   \n",
              "1          210.99          zara  \n",
              "2          150.70    riachuelo   \n",
              "3          150.70    riachuelo   \n",
              "4         1300.50     pontofrio  "
            ]
          },
          "execution_count": 5,
          "metadata": {},
          "output_type": "execute_result"
        }
      ],
      "source": [
        "query5 = pd.read_csv(\"query5.csv\")\n",
        "query5.head()"
      ]
    }
  ],
  "metadata": {
    "colab": {
      "collapsed_sections": [],
      "name": "modulo_6_exercicio.ipynb",
      "provenance": [],
      "toc_visible": true
    },
    "kernelspec": {
      "display_name": "Python 3",
      "name": "python3"
    },
    "language_info": {
      "codemirror_mode": {
        "name": "ipython",
        "version": 3
      },
      "file_extension": ".py",
      "mimetype": "text/x-python",
      "name": "python",
      "nbconvert_exporter": "python",
      "pygments_lexer": "ipython3",
      "version": "3.11.3"
    }
  },
  "nbformat": 4,
  "nbformat_minor": 0
}
