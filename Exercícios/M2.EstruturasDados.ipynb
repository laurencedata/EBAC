{
  "cells": [
    {
      "cell_type": "markdown",
      "metadata": {
        "id": "KJqp9AANOCtf"
      },
      "source": [
        "<img src=\"https://raw.githubusercontent.com/andre-marcos-perez/ebac-course-utils/main/media/logo/newebac_logo_black_half.png\" alt=\"ebac-logo\">\n",
        "\n",
        "---\n",
        "\n",
        "# **Módulo** | Python: Estruturas de Dados\n",
        "Caderno de **Exercícios**<br> \n",
        "Professor [André Perez](https://www.linkedin.com/in/andremarcosperez/)\n",
        "\n",
        "---"
      ]
    },
    {
      "cell_type": "markdown",
      "metadata": {
        "id": "d9jDtUbDOE1-"
      },
      "source": [
        "# **Tópicos**\n",
        "\n",
        "<ol type=\"1\">\n",
        "  <li>Listas;</li>\n",
        "  <li>Conjuntos;</li>\n",
        "  <li>Dicionários.</li>\n",
        "</ol>"
      ]
    },
    {
      "cell_type": "markdown",
      "metadata": {
        "id": "SmoHgt-lwkpD"
      },
      "source": [
        "---"
      ]
    },
    {
      "cell_type": "markdown",
      "metadata": {
        "id": "GABI6OW8OfQ2"
      },
      "source": [
        "# **Exercícios**"
      ]
    },
    {
      "cell_type": "markdown",
      "metadata": {
        "id": "muD1vxozykSC"
      },
      "source": [
        "## 1\\. Listas"
      ]
    },
    {
      "cell_type": "markdown",
      "metadata": {
        "id": "ahrFfCuBxJKs"
      },
      "source": [
        "Criei uma lista chamada `filmes` com o nome dos 10 primeiros filmes mais bem avaliados no site no [IMDB](https://www.imdb.com/chart/top/). Imprima o resultado."
      ]
    },
    {
      "cell_type": "code",
      "execution_count": 1,
      "metadata": {
        "id": "OgL6Hv3bzOHI"
      },
      "outputs": [
        {
          "name": "stdout",
          "output_type": "stream",
          "text": [
            "['Um Sonho de Liberdade', 'O Poderoso Chefao', 'Batman: O Cavaleiro das Trevas', 'O Poderoso Chefão II', '12 Homens e uma Sentenca', 'A Lista de Schindler', 'O Senhor dos Aneis: O Retorno do Rei', 'Pulp Fiction: Tempo de Violência', 'O Senhor dos Aneis: A sociedade do Anel', 'Tres Homens em Conflito']\n"
          ]
        }
      ],
      "source": [
        "filmes = [\"Um Sonho de Liberdade\", \"O Poderoso Chefao\", \"Batman: O Cavaleiro das Trevas\", \"O Poderoso Chefão II\", \"12 Homens e uma Sentenca\", 'A Lista de Schindler', 'O Senhor dos Aneis: O Retorno do Rei', 'Pulp Fiction: Tempo de Violência', \"O Senhor dos Aneis: A sociedade do Anel\", \"Tres Homens em Conflito\"]\n",
        "print(filmes)"
      ]
    },
    {
      "cell_type": "markdown",
      "metadata": {
        "id": "KI9zQRT2xa7m"
      },
      "source": [
        "Simule a movimentação do *ranking*. Utilize os métodos `insert` e `pop` para trocar a posição do primeiro e do segundo filme da lista. Imprima o resultado.\n",
        "\n"
      ]
    },
    {
      "cell_type": "code",
      "execution_count": 5,
      "metadata": {},
      "outputs": [
        {
          "name": "stdout",
          "output_type": "stream",
          "text": [
            "['O Poderoso Chefao', 'Um Sonho de Liberdade', 'Batman: O Cavaleiro das Trevas', 'O Poderoso Chefão II', '12 Homens e uma Sentenca', 'A Lista de Schindler', 'O Senhor dos Aneis: O Retorno do Rei', 'Pulp Fiction: Tempo de Violência', 'O Senhor dos Aneis: A sociedade do Anel', 'Tres Homens em Conflito']\n"
          ]
        }
      ],
      "source": [
        "filmes.insert(1, filmes.pop(0))\n",
        "print(filmes)"
      ]
    },
    {
      "cell_type": "markdown",
      "metadata": {
        "id": "zMN1Q3jdwoJm"
      },
      "source": [
        "---"
      ]
    },
    {
      "cell_type": "markdown",
      "metadata": {
        "id": "lxa5L6uF0ZJE"
      },
      "source": [
        "## 2\\. Conjuntos"
      ]
    },
    {
      "cell_type": "markdown",
      "metadata": {
        "id": "9JahS2Kj0d5u"
      },
      "source": [
        "Aconteceu um erro no seu *ranking*. Simule a duplicação dos três últimos filmes da lista. Imprima o resultado."
      ]
    },
    {
      "cell_type": "code",
      "execution_count": 15,
      "metadata": {
        "id": "BnjnLBNC6PGe"
      },
      "outputs": [
        {
          "name": "stdout",
          "output_type": "stream",
          "text": [
            "['O Poderoso Chefao', 'Um Sonho de Liberdade', 'Batman: O Cavaleiro das Trevas', 'O Poderoso Chefão II', '12 Homens e uma Sentenca', 'A Lista de Schindler', 'O Senhor dos Aneis: O Retorno do Rei', 'Pulp Fiction: Tempo de Violência', 'O Senhor dos Aneis: A sociedade do Anel', 'Tres Homens em Conflito', 'Pulp Fiction: Tempo de Violência', 'O Senhor dos Aneis: A sociedade do Anel', 'Tres Homens em Conflito', 'Pulp Fiction: Tempo de Violência', 'O Senhor dos Aneis: A sociedade do Anel', 'Tres Homens em Conflito', 'Pulp Fiction: Tempo de Violência', 'O Senhor dos Aneis: A sociedade do Anel', 'Tres Homens em Conflito', 'Pulp Fiction: Tempo de Violência', 'O Senhor dos Aneis: A sociedade do Anel', 'Tres Homens em Conflito', 'Pulp Fiction: Tempo de Violência']\n"
          ]
        }
      ],
      "source": [
        "filmes.append(filmes[len(filmes)-3])\n",
        "filmes.append(filmes[len(filmes)-3])\n",
        "filmes.append(filmes[len(filmes)-3])\n",
        "print(filmes)"
      ]
    },
    {
      "cell_type": "markdown",
      "metadata": {
        "id": "suxTfCJB6ZiX"
      },
      "source": [
        "Utiliza a conversão `set` e `list` para remover os valores duplicados. Imprima o resultado. "
      ]
    },
    {
      "cell_type": "code",
      "execution_count": 19,
      "metadata": {},
      "outputs": [
        {
          "name": "stdout",
          "output_type": "stream",
          "text": [
            "['O Poderoso Chefão II', 'Pulp Fiction: Tempo de Violência', 'Batman: O Cavaleiro das Trevas', '12 Homens e uma Sentenca', 'Um Sonho de Liberdade', 'A Lista de Schindler', 'O Senhor dos Aneis: A sociedade do Anel', 'Tres Homens em Conflito', 'O Senhor dos Aneis: O Retorno do Rei', 'O Poderoso Chefao']\n"
          ]
        }
      ],
      "source": [
        "print(list(set(filmes)))"
      ]
    },
    {
      "cell_type": "markdown",
      "metadata": {
        "id": "ShkK35eQ6pAM"
      },
      "source": [
        "---"
      ]
    },
    {
      "cell_type": "markdown",
      "metadata": {
        "id": "EL_FzmxL6rTv"
      },
      "source": [
        "## 3\\. Dicionários"
      ]
    },
    {
      "cell_type": "markdown",
      "metadata": {
        "id": "i8l0gFqRCpfT"
      },
      "source": [
        "Repita os exercícios da parte 1 (listas). Os elementos da lista `filmes` devem ser dicionários no seguinte formato: `{'nome': <nome-do-filme>, 'ano': <ano do filme>, 'sinopse': <sinopse do filme>}`. "
      ]
    },
    {
      "cell_type": "code",
      "execution_count": 21,
      "metadata": {
        "id": "tu6MSFwGDnHv"
      },
      "outputs": [
        {
          "name": "stdout",
          "output_type": "stream",
          "text": [
            "{'nome': 'Um Sonho de Liberdade', 'ano': 1994, 'sinopse': 'Dois homens presos se reúnem ao longo de vários anos, encontrando consolo e eventual redenção através de atos de decência comum.'}\n",
            "{'nome': 'O Poderoso Chefao', 'ano': 1972, 'sinopse': 'O patriarca idoso de uma dinastia do crime organizado transfere o controle de seu império clandestino para seu filho relutante.'}\n",
            "{'nome': 'Batman: O Cavaleiro das Trevas', 'ano': 2008, 'sinopse': 'Quando a ameaça conhecida como O Coringa surge de seu passado, causa estragos e caos nas pessoas de Gotham. O Cavaleiro das Trevas deve aceitar um dos maiores testes para combater a injustiça.'}\n",
            "{'nome': 'O Poderoso Chefao II', 'ano': 1974, 'sinopse': 'Em 1950, Michael Corleone, agora à frente da família, tenta expandir o negócio do crime a Las Vegas, Los Angeles e Cuba. Paralelamente, é revelada a história de Vito Corleone, e de como saiu da Sicília e chegou a Nova Iorque.'}\n",
            "{'nome': '12 Homens e uma Sentenca', 'ano': 1957, 'sinopse': 'Um jurado que se aposenta tenta evitar um erro judicial forçando seus colegas a reconsiderarem as evidências.'}\n",
            "{'nome': 'A Lista de Schindler', 'ano': 1993, 'sinopse': 'Depois de testemunhar a perseguição dos judaicos na Polônia ocupada pelos alemães durante a Segunda Guerra Mundial, o industrial Oskar Schindler se começa a preocupar com sua força de trabalho judaica.'}\n",
            "{'nome': 'O Senhor dos Aneis: O Retorno do Rei', 'ano': 2003, 'sinopse': 'Gandalf e Aragorn lideram o Mundo dos Homens contra o exército de Sauron para desviar o olhar de Frodo e Sam quando eles se aproximam á Montanha da Perdição com o Um Anel.'}\n",
            "{'nome': 'Pulp Fiction: Tempo de Violencia', 'ano': 1994, 'sinopse': 'As vidas de dois assassinos da máfia, um boxeador, um gângster e sua esposa, e um par de bandidos se entrelaçam em quatro histórias de violência e redenção.'}\n",
            "{'nome': 'O Senhor dos Aneis', 'ano': 2001, 'sinopse': 'Um manso hobbit do Condado e oito companheiros partem em uma jornada para destruir o poderoso Um Anel e salvar a Terra-média das Trevas.'}\n",
            "{'nome': 'Tres Homens em Conflito', 'ano': 1966, 'sinopse': 'Um impostor se junta com dois homens para encontrar fortuna num remoto cemitério.'}\n"
          ]
        }
      ],
      "source": [
        "filmes =  [\n",
        "{\"nome\":\"Um Sonho de Liberdade\", \"ano\": 1994, \"sinopse\": \"Dois homens presos se reúnem ao longo de vários anos, encontrando consolo e eventual redenção através de atos de decência comum.\"},\n",
        "{\"nome\": \"O Poderoso Chefao\", \"ano\": 1972, \"sinopse\": \"O patriarca idoso de uma dinastia do crime organizado transfere o controle de seu império clandestino para seu filho relutante.\"},\n",
        "{\"nome\": \"Batman: O Cavaleiro das Trevas\", \"ano\": 2008, \"sinopse\": \"Quando a ameaça conhecida como O Coringa surge de seu passado, causa estragos e caos nas pessoas de Gotham. O Cavaleiro das Trevas deve aceitar um dos maiores testes para combater a injustiça.\"},\n",
        "{\"nome\": \"O Poderoso Chefao II\", \"ano\": 1974, \"sinopse\": \"Em 1950, Michael Corleone, agora à frente da família, tenta expandir o negócio do crime a Las Vegas, Los Angeles e Cuba. Paralelamente, é revelada a história de Vito Corleone, e de como saiu da Sicília e chegou a Nova Iorque.\"},\n",
        "{\"nome\": \"12 Homens e uma Sentenca\", \"ano\": 1957, \"sinopse\": \"Um jurado que se aposenta tenta evitar um erro judicial forçando seus colegas a reconsiderarem as evidências.\"},\n",
        "{\"nome\": \"A Lista de Schindler\", \"ano\": 1993, \"sinopse\": \"Depois de testemunhar a perseguição dos judaicos na Polônia ocupada pelos alemães durante a Segunda Guerra Mundial, o industrial Oskar Schindler se começa a preocupar com sua força de trabalho judaica.\"},\n",
        "{\"nome\": \"O Senhor dos Aneis: O Retorno do Rei\", \"ano\": 2003, \"sinopse\": \"Gandalf e Aragorn lideram o Mundo dos Homens contra o exército de Sauron para desviar o olhar de Frodo e Sam quando eles se aproximam á Montanha da Perdição com o Um Anel.\"},\n",
        "{\"nome\": \"Pulp Fiction: Tempo de Violencia\", \"ano\": 1994, \"sinopse\": \"As vidas de dois assassinos da máfia, um boxeador, um gângster e sua esposa, e um par de bandidos se entrelaçam em quatro histórias de violência e redenção.\"},\n",
        "{\"nome\": \"O Senhor dos Aneis\", \"ano\": 2001, \"sinopse\": \"Um manso hobbit do Condado e oito companheiros partem em uma jornada para destruir o poderoso Um Anel e salvar a Terra-média das Trevas.\"},\n",
        "{\"nome\": \"Tres Homens em Conflito\", \"ano\": 1966, \"sinopse\": \"Um impostor se junta com dois homens para encontrar fortuna num remoto cemitério.\"}\n",
        "]\n",
        "for filme in filmes:\n",
        "    print(filme)"
      ]
    },
    {
      "cell_type": "code",
      "execution_count": null,
      "metadata": {},
      "outputs": [],
      "source": []
    }
  ],
  "metadata": {
    "colab": {
      "collapsed_sections": [],
      "provenance": [],
      "toc_visible": true
    },
    "kernelspec": {
      "display_name": "Python 3",
      "name": "python3"
    },
    "language_info": {
      "codemirror_mode": {
        "name": "ipython",
        "version": 3
      },
      "file_extension": ".py",
      "mimetype": "text/x-python",
      "name": "python",
      "nbconvert_exporter": "python",
      "pygments_lexer": "ipython3",
      "version": "3.11.3"
    }
  },
  "nbformat": 4,
  "nbformat_minor": 0
}
