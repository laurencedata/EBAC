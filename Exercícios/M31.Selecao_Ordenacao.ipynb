{
  "cells": [
    {
      "cell_type": "markdown",
      "metadata": {
        "id": "KJqp9AANOCtf"
      },
      "source": [
        "<img src=\"https://raw.githubusercontent.com/andre-marcos-perez/ebac-course-utils/main/media/logo/newebac_logo_black_half.png\" alt=\"ebac-logo\">\n",
        "\n",
        "---\n",
        "\n",
        "# **Módulo** | SQL: Selecionando & Ordenando\n",
        "Caderno de **Exercícios**<br> \n",
        "Professor [Mariane Neiva](https://www.linkedin.com/in/mariane-neiva/)\n",
        "\n",
        "---"
      ]
    },
    {
      "cell_type": "markdown",
      "metadata": {
        "id": "d9jDtUbDOE1-"
      },
      "source": [
        "# **Tópicos**\n",
        "\n",
        "<ol type=\"1\">\n",
        "  <li>Restrição de colunas;</li>\n",
        "  <li>Selecionando dados;</li>\n",
        "  <li>Ordenando e limitando os resultados;</li>\n",
        "</ol>"
      ]
    },
    {
      "cell_type": "markdown",
      "metadata": {
        "id": "SmoHgt-lwkpD"
      },
      "source": [
        "---"
      ]
    },
    {
      "cell_type": "markdown",
      "metadata": {
        "id": "DIlQOznoTPQF"
      },
      "source": [
        "# **Instruções**\n",
        "\n",
        "Nessa **atividades**, você deve:\n",
        "\n",
        " 1. Executar a consulta SQL fornecida;\n",
        " 2. Exportar os resultados em um arquivo csv para sua máquina; \n",
        " 3. Renomear o arquivo como **query\\<numero-da-query\\>.csv**;\n",
        " 4. Enviar para a avaliação do tutor na plataforma da EBAC.\n",
        "\n",
        "> **Atenção**: Substitua o **\\<numero-da-query>** numero da consulta, exemplo: **query1.csv**.\n",
        "\n",
        "**Importante**: Para consultar mais detalhes da AWS Athena [clique aqui](https://docs.aws.amazon.com/athena/latest/ug/what-is.html)"
      ]
    },
    {
      "cell_type": "markdown",
      "metadata": {
        "id": "vvlBORqbTPQp"
      },
      "source": [
        "---"
      ]
    },
    {
      "cell_type": "markdown",
      "metadata": {},
      "source": [
        "**Observação:**\n",
        "\n",
        "As consultas SQL apresentadas neste notebook foram executadas anteriormente na **AWS** utilizando o serviço **Amazon Athena**. Os dados utilizados estavam armazenados no **Amazon S3**. Os resultados das consultas foram reproduzidos aqui apenas para fins de visualização e análise."
      ]
    },
    {
      "cell_type": "markdown",
      "metadata": {
        "id": "k4HJwfbQcEQw"
      },
      "source": [
        "# Atividades"
      ]
    },
    {
      "cell_type": "markdown",
      "metadata": {
        "id": "0cbohKQegVk7"
      },
      "source": [
        "# **1. Restrição de colunas** "
      ]
    },
    {
      "cell_type": "markdown",
      "metadata": {
        "id": "0Airo3E0h5Ik"
      },
      "source": [
        "## **1.1. Prática 1**\n",
        "\n",
        "No módulo 3, vimos um pouco sobre chave primária, chave estrangeira e outras restrições. **Nessa prática 1, não há necessidade de entrega**. No entanto, recomendo que você pratique no site: https://sqliteonline.com/ a seguinte sequência de queries:\n",
        "\n",
        "* Criando a tabela de clientes:\n",
        "\n",
        "```sql\n",
        "CREATE TABLE clientes (\n",
        "\tid_cliente INT PRIMARY KEY);\n",
        "```\n",
        "\n",
        "* Inserindo dados nas tabelas de clientes:\n",
        "\n",
        "```sql\n",
        "INSERT INTO clientes VALUES(1);\n",
        "INSERT INTO clientes VALUES(2);\n",
        "INSERT INTO clientes VALUES(3);\n",
        "INSERT INTO clientes VALUES(4);\n",
        "INSERT INTO clientes VALUES(5);\n",
        "```\n",
        "\n",
        "* Visualizando dados dos clientes:\n",
        "```sql \n",
        "SELECT * FROM clientes;\n",
        "```\n",
        "\n",
        "* Criando a tabela de transações:\n",
        "\n",
        "```sql\n",
        "CREATE TABLE transacoes (\n",
        "  id_cliente INT,   \n",
        "  id_transacao INT PRIMARY KEY,\n",
        "  data_compra DATE UNIQUE,\n",
        "  valor FLOAT NOT NULL, \n",
        "  id_loja varchar(25),\n",
        "  FOREIGN KEY (id_cliente) REFERENCES clientes(id_cliente)\n",
        "  CHECK (valor > 0) \n",
        ");\n",
        "```\n",
        "\n",
        "* Inserindo dados na tabela transacoes:\n",
        "\n",
        "```sql\n",
        "INSERT INTO transacoes VALUES (1,768805383,2021-06-10,50.74,'magalu');\n",
        "INSERT INTO transacoes VALUES (2,768805399,2021-06-13,30.90,'giraffas');\n",
        "INSERT INTO transacoes VALUES (3,818770008,2021-06-05,110.00,'postoshell');\n",
        "INSERT INTO transacoes VALUES (1,76856563,2021-07-10,2000.90,'magalu');\n",
        "INSERT INTO transacoes VALUES (1,767573759,2021-06-20,15.70,'subway');\n",
        "INSERT INTO transacoes VALUES (3,818575758,2021-06-25,2.99,'seveneleven');\n",
        "INSERT INTO transacoes VALUES (4,764545534,2021-07-11,50.74,'extra');\n",
        "INSERT INTO transacoes VALUES (5,76766789,2021-08-02,10.00,'subway');\n",
        "INSERT INTO transacoes VALUES (3,8154567758,2021-08-15,1100.00,'shopee');\n",
        "```\n",
        "\n",
        "* Visualizando os dados da tabela transacoes:\n",
        "\n",
        "```sql\n",
        "SELECT * FROM transacoes\n",
        "```\n",
        "\n",
        "* Verificando o uso do check: \n",
        "\n",
        "```sql\n",
        "INSERT INTO transacoes VALUES (5,764545534,2021-07-12,-50.74,'extra');\n",
        "``` \n"
      ]
    },
    {
      "cell_type": "code",
      "execution_count": 1,
      "metadata": {},
      "outputs": [
        {
          "data": {
            "text/html": [
              "<div>\n",
              "<style scoped>\n",
              "    .dataframe tbody tr th:only-of-type {\n",
              "        vertical-align: middle;\n",
              "    }\n",
              "\n",
              "    .dataframe tbody tr th {\n",
              "        vertical-align: top;\n",
              "    }\n",
              "\n",
              "    .dataframe thead th {\n",
              "        text-align: right;\n",
              "    }\n",
              "</style>\n",
              "<table border=\"1\" class=\"dataframe\">\n",
              "  <thead>\n",
              "    <tr style=\"text-align: right;\">\n",
              "      <th></th>\n",
              "      <th>id_clientes</th>\n",
              "      <th>id_transacao</th>\n",
              "      <th>data_compra</th>\n",
              "      <th>valor</th>\n",
              "      <th>id_loja</th>\n",
              "    </tr>\n",
              "  </thead>\n",
              "  <tbody>\n",
              "    <tr>\n",
              "      <th>0</th>\n",
              "      <td>1</td>\n",
              "      <td>768805383</td>\n",
              "      <td>2021-06-10</td>\n",
              "      <td>50.74</td>\n",
              "      <td>magalu</td>\n",
              "    </tr>\n",
              "    <tr>\n",
              "      <th>1</th>\n",
              "      <td>2</td>\n",
              "      <td>768805399</td>\n",
              "      <td>2021-06-13</td>\n",
              "      <td>30.90</td>\n",
              "      <td>giraffas</td>\n",
              "    </tr>\n",
              "    <tr>\n",
              "      <th>2</th>\n",
              "      <td>3</td>\n",
              "      <td>818770008</td>\n",
              "      <td>2021-06-05</td>\n",
              "      <td>110.00</td>\n",
              "      <td>postoshell</td>\n",
              "    </tr>\n",
              "    <tr>\n",
              "      <th>3</th>\n",
              "      <td>1</td>\n",
              "      <td>76856563</td>\n",
              "      <td>2021-07-10</td>\n",
              "      <td>2000.90</td>\n",
              "      <td>magalu</td>\n",
              "    </tr>\n",
              "    <tr>\n",
              "      <th>4</th>\n",
              "      <td>1</td>\n",
              "      <td>767573759</td>\n",
              "      <td>2021-06-20</td>\n",
              "      <td>15.70</td>\n",
              "      <td>subway</td>\n",
              "    </tr>\n",
              "  </tbody>\n",
              "</table>\n",
              "</div>"
            ],
            "text/plain": [
              "   id_clientes  id_transacao data_compra    valor     id_loja\n",
              "0            1     768805383  2021-06-10    50.74      magalu\n",
              "1            2     768805399  2021-06-13    30.90    giraffas\n",
              "2            3     818770008  2021-06-05   110.00  postoshell\n",
              "3            1      76856563  2021-07-10  2000.90      magalu\n",
              "4            1     767573759  2021-06-20    15.70      subway"
            ]
          },
          "execution_count": 1,
          "metadata": {},
          "output_type": "execute_result"
        }
      ],
      "source": [
        "import pandas as pd \n",
        "\n",
        "exercicio_SQLite = pd.read_csv(\"SQLite.csv\")\n",
        "exercicio_SQLite.head()"
      ]
    },
    {
      "cell_type": "markdown",
      "metadata": {
        "id": "qDxe2l4cMcVa"
      },
      "source": [
        "# **2. Selecionando dados**\n",
        "\n",
        "Nessa segunda prática, utilizaremos o AWS Athena. \n",
        " \n",
        "O arquivo com os dados a ser utilizado está disponível no material de aula com **transacoes.csv**.\n",
        "\n",
        "Para criar uma tabela, siga os passos: \n",
        "\n",
        "1.   No S3-AWS, crie uma nova pasta (bucket) chamada 'bucket-transacoes' \n",
        "2.   Carregue o arquivo **transacoes.csv** dentro dessa pasta.\n",
        "3.   Volte para o Athena e execute a seguinte query:\n",
        "\n",
        "```sql\n",
        "CREATE EXTERNAL TABLE transacoes(\n",
        "  id_cliente BIGINT, \n",
        "  id_transacao BIGINT,\n",
        "  valor FLOAT,\n",
        "  id_loja STRING) \n",
        "ROW FORMAT SERDE 'org.apache.hadoop.hive.serde2.OpenCSVSerde'\n",
        "WITH SERDEPROPERTIES ('separatorChar' = ',', 'quoteChar' = '\"', 'escapeChar' = '\\\\')\n",
        "STORED AS TEXTFILE\n",
        "LOCATION 's3://bucket-laurence-transacoes/'\n",
        "```\n",
        "\n",
        "## 2.1 Query 1 \n",
        "\n",
        "Visualize os dados e salve os resultados para enviar como exercício:\n",
        "\n",
        "```sql \n",
        "SELECT * from transacoes\n",
        "```\n",
        "\n",
        "> **Importante**: entregue os resultados da query com o nome *query1.csv*"
      ]
    },
    {
      "cell_type": "code",
      "execution_count": 5,
      "metadata": {},
      "outputs": [
        {
          "data": {
            "text/html": [
              "<div>\n",
              "<style scoped>\n",
              "    .dataframe tbody tr th:only-of-type {\n",
              "        vertical-align: middle;\n",
              "    }\n",
              "\n",
              "    .dataframe tbody tr th {\n",
              "        vertical-align: top;\n",
              "    }\n",
              "\n",
              "    .dataframe thead th {\n",
              "        text-align: right;\n",
              "    }\n",
              "</style>\n",
              "<table border=\"1\" class=\"dataframe\">\n",
              "  <thead>\n",
              "    <tr style=\"text-align: right;\">\n",
              "      <th></th>\n",
              "      <th>id_cliente</th>\n",
              "      <th>id_transacao</th>\n",
              "      <th>valor</th>\n",
              "      <th>id_loja</th>\n",
              "    </tr>\n",
              "  </thead>\n",
              "  <tbody>\n",
              "    <tr>\n",
              "      <th>0</th>\n",
              "      <td>1</td>\n",
              "      <td>768805383</td>\n",
              "      <td>50.74</td>\n",
              "      <td>magalu</td>\n",
              "    </tr>\n",
              "    <tr>\n",
              "      <th>1</th>\n",
              "      <td>2</td>\n",
              "      <td>768805399</td>\n",
              "      <td>30.90</td>\n",
              "      <td>giraffas</td>\n",
              "    </tr>\n",
              "    <tr>\n",
              "      <th>2</th>\n",
              "      <td>3</td>\n",
              "      <td>818770008</td>\n",
              "      <td>110.00</td>\n",
              "      <td>postoshell</td>\n",
              "    </tr>\n",
              "    <tr>\n",
              "      <th>3</th>\n",
              "      <td>1</td>\n",
              "      <td>76856563</td>\n",
              "      <td>2000.90</td>\n",
              "      <td>magalu</td>\n",
              "    </tr>\n",
              "    <tr>\n",
              "      <th>4</th>\n",
              "      <td>1</td>\n",
              "      <td>767573759</td>\n",
              "      <td>15.70</td>\n",
              "      <td>subway</td>\n",
              "    </tr>\n",
              "    <tr>\n",
              "      <th>5</th>\n",
              "      <td>3</td>\n",
              "      <td>818575758</td>\n",
              "      <td>2.99</td>\n",
              "      <td>seveneleven</td>\n",
              "    </tr>\n",
              "    <tr>\n",
              "      <th>6</th>\n",
              "      <td>4</td>\n",
              "      <td>764545534</td>\n",
              "      <td>50.74</td>\n",
              "      <td>extra</td>\n",
              "    </tr>\n",
              "    <tr>\n",
              "      <th>7</th>\n",
              "      <td>5</td>\n",
              "      <td>76766789</td>\n",
              "      <td>10.00</td>\n",
              "      <td>subway</td>\n",
              "    </tr>\n",
              "  </tbody>\n",
              "</table>\n",
              "</div>"
            ],
            "text/plain": [
              "   id_cliente  id_transacao    valor      id_loja\n",
              "0           1     768805383    50.74       magalu\n",
              "1           2     768805399    30.90     giraffas\n",
              "2           3     818770008   110.00   postoshell\n",
              "3           1      76856563  2000.90       magalu\n",
              "4           1     767573759    15.70       subway\n",
              "5           3     818575758     2.99  seveneleven\n",
              "6           4     764545534    50.74        extra\n",
              "7           5      76766789    10.00       subway"
            ]
          },
          "execution_count": 5,
          "metadata": {},
          "output_type": "execute_result"
        }
      ],
      "source": [
        "query1 = pd.read_csv(\"query1.csv\")\n",
        "query1.head(8)"
      ]
    },
    {
      "cell_type": "markdown",
      "metadata": {
        "id": "N-lRqaLXiL9i"
      },
      "source": [
        "## 2.2 Query 2 \n",
        "\n",
        "Agora vamos praticar o uso do alias (apelido) com o comando **AS**. Troque o nome da coluna *id_loja* na visualização por *nome_loja* e salve o resultado como **query2.csv**\n",
        "\n",
        "```sql \n",
        "SELECT id_cliente , valor, id_loja AS nome_loja FROM transacoes;\n",
        "```\n",
        "\n",
        "> **Importante**: entregue os resultados da query com o nome *query2.csv*"
      ]
    },
    {
      "cell_type": "code",
      "execution_count": 6,
      "metadata": {},
      "outputs": [
        {
          "data": {
            "text/html": [
              "<div>\n",
              "<style scoped>\n",
              "    .dataframe tbody tr th:only-of-type {\n",
              "        vertical-align: middle;\n",
              "    }\n",
              "\n",
              "    .dataframe tbody tr th {\n",
              "        vertical-align: top;\n",
              "    }\n",
              "\n",
              "    .dataframe thead th {\n",
              "        text-align: right;\n",
              "    }\n",
              "</style>\n",
              "<table border=\"1\" class=\"dataframe\">\n",
              "  <thead>\n",
              "    <tr style=\"text-align: right;\">\n",
              "      <th></th>\n",
              "      <th>id_cliente</th>\n",
              "      <th>valor</th>\n",
              "      <th>nome_loja</th>\n",
              "    </tr>\n",
              "  </thead>\n",
              "  <tbody>\n",
              "    <tr>\n",
              "      <th>0</th>\n",
              "      <td>1</td>\n",
              "      <td>50.74</td>\n",
              "      <td>magalu</td>\n",
              "    </tr>\n",
              "    <tr>\n",
              "      <th>1</th>\n",
              "      <td>2</td>\n",
              "      <td>30.90</td>\n",
              "      <td>giraffas</td>\n",
              "    </tr>\n",
              "    <tr>\n",
              "      <th>2</th>\n",
              "      <td>3</td>\n",
              "      <td>110.00</td>\n",
              "      <td>postoshell</td>\n",
              "    </tr>\n",
              "    <tr>\n",
              "      <th>3</th>\n",
              "      <td>1</td>\n",
              "      <td>2000.90</td>\n",
              "      <td>magalu</td>\n",
              "    </tr>\n",
              "    <tr>\n",
              "      <th>4</th>\n",
              "      <td>1</td>\n",
              "      <td>15.70</td>\n",
              "      <td>subway</td>\n",
              "    </tr>\n",
              "  </tbody>\n",
              "</table>\n",
              "</div>"
            ],
            "text/plain": [
              "   id_cliente    valor   nome_loja\n",
              "0           1    50.74      magalu\n",
              "1           2    30.90    giraffas\n",
              "2           3   110.00  postoshell\n",
              "3           1  2000.90      magalu\n",
              "4           1    15.70      subway"
            ]
          },
          "execution_count": 6,
          "metadata": {},
          "output_type": "execute_result"
        }
      ],
      "source": [
        "query2 = pd.read_csv(\"query2.csv\")\n",
        "query2.head()"
      ]
    },
    {
      "cell_type": "markdown",
      "metadata": {
        "id": "R3WlvgbrRHfN"
      },
      "source": [
        "## 2.3 Query 3\n",
        "\n",
        "Para ver as lojas cadastradas na tabela transacoes sem que haja repetições utilize o comando SELECT DISTINCT. Para tal, execute a query abaixo, salve o resultado como **query3.csv**\n",
        "\n",
        "```sql \n",
        "SELECT DISTINCT  id_loja AS nome_loja FROM transacoes;\n",
        "```\n",
        "\n",
        "> **Importante**: entregue os resultados da query com o nome *query3.csv*"
      ]
    },
    {
      "cell_type": "markdown",
      "metadata": {
        "id": "TAEj0KkuRxdw"
      },
      "source": [
        "# 3. Ordenando e limitando dados\n",
        "\n",
        "## 3.1 Query 4\n",
        "\n",
        "Podemos ordenar e limitar a visualização da tabela como o comando ORDER BY e LIMIT. Execute o comando abaixo e salve os resultados no arquivo **query4.csv**\n",
        "\n",
        "```sql \n",
        "SELECT id_cliente, valor FROM transacoes ORDER BY valor DESC LIMIT 2;\n",
        "```\n",
        "\n",
        "> **Importante**: entregue os resultados da query com o nome *query4.csv*"
      ]
    },
    {
      "cell_type": "code",
      "execution_count": 7,
      "metadata": {},
      "outputs": [
        {
          "data": {
            "text/html": [
              "<div>\n",
              "<style scoped>\n",
              "    .dataframe tbody tr th:only-of-type {\n",
              "        vertical-align: middle;\n",
              "    }\n",
              "\n",
              "    .dataframe tbody tr th {\n",
              "        vertical-align: top;\n",
              "    }\n",
              "\n",
              "    .dataframe thead th {\n",
              "        text-align: right;\n",
              "    }\n",
              "</style>\n",
              "<table border=\"1\" class=\"dataframe\">\n",
              "  <thead>\n",
              "    <tr style=\"text-align: right;\">\n",
              "      <th></th>\n",
              "      <th>id_cliente</th>\n",
              "      <th>valor</th>\n",
              "    </tr>\n",
              "  </thead>\n",
              "  <tbody>\n",
              "    <tr>\n",
              "      <th>0</th>\n",
              "      <td>1</td>\n",
              "      <td>2000.9</td>\n",
              "    </tr>\n",
              "    <tr>\n",
              "      <th>1</th>\n",
              "      <td>3</td>\n",
              "      <td>1100.0</td>\n",
              "    </tr>\n",
              "  </tbody>\n",
              "</table>\n",
              "</div>"
            ],
            "text/plain": [
              "   id_cliente   valor\n",
              "0           1  2000.9\n",
              "1           3  1100.0"
            ]
          },
          "execution_count": 7,
          "metadata": {},
          "output_type": "execute_result"
        }
      ],
      "source": [
        "query4 = pd.read_csv(\"query4.csv\")\n",
        "query4.head()"
      ]
    }
  ],
  "metadata": {
    "colab": {
      "collapsed_sections": [],
      "name": "modulo_3_exercicio.ipynb",
      "provenance": [],
      "toc_visible": true
    },
    "kernelspec": {
      "display_name": "Python 3",
      "name": "python3"
    },
    "language_info": {
      "codemirror_mode": {
        "name": "ipython",
        "version": 3
      },
      "file_extension": ".py",
      "mimetype": "text/x-python",
      "name": "python",
      "nbconvert_exporter": "python",
      "pygments_lexer": "ipython3",
      "version": "3.11.3"
    }
  },
  "nbformat": 4,
  "nbformat_minor": 0
}
