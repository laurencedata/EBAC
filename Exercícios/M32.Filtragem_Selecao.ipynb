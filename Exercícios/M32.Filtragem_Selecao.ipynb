{
  "cells": [
    {
      "cell_type": "markdown",
      "metadata": {
        "id": "KJqp9AANOCtf"
      },
      "source": [
        "<img src=\"https://raw.githubusercontent.com/andre-marcos-perez/ebac-course-utils/main/media/logo/newebac_logo_black_half.png\" alt=\"ebac-logo\">\n",
        "\n",
        "---\n",
        "\n",
        "# **Módulo** | SQL: Filtrando & Seleção Condicional\n",
        "Caderno de **Exercícios**<br> \n",
        "Professor [Mariane Neiva](https://www.linkedin.com/in/mariane-neiva/)\n",
        "\n",
        "---"
      ]
    },
    {
      "cell_type": "markdown",
      "metadata": {
        "id": "d9jDtUbDOE1-"
      },
      "source": [
        "# **Tópicos**\n",
        "\n",
        "<ol type=\"1\">\n",
        "  <li>Filtros and, or, in e between;</li>\n",
        "  <li>Filtros like e wildcards;</li>\n",
        "  <li>Seleção condicional;</li>\n",
        "</ol>"
      ]
    },
    {
      "cell_type": "markdown",
      "metadata": {
        "id": "SmoHgt-lwkpD"
      },
      "source": [
        "---"
      ]
    },
    {
      "cell_type": "markdown",
      "metadata": {
        "id": "DIlQOznoTPQF"
      },
      "source": [
        "# **Instruções**\n",
        "\n",
        "Nessa **atividades**, você deve:\n",
        "\n",
        " 1. Executar a consulta SQL fornecida;\n",
        " 2. Exportar os resultados em um arquivo csv para sua máquina; \n",
        " 3. Renomear o arquivo como **query\\<numero-da-query\\>.csv**;\n",
        " 4. Enviar para a avaliação do tutor na plataforma da EBAC.\n",
        "\n",
        "> **Atenção**: Substitua o **\\<numero-da-query>** numero da consulta, exemplo: **query1.csv**.\n",
        "\n",
        "**Importante**: Para consultar mais detalhes da AWS Athena [clique aqui](https://docs.aws.amazon.com/athena/latest/ug/what-is.html)"
      ]
    },
    {
      "cell_type": "markdown",
      "metadata": {
        "id": "vvlBORqbTPQp"
      },
      "source": [
        "---"
      ]
    },
    {
      "cell_type": "markdown",
      "metadata": {
        "id": "k4HJwfbQcEQw"
      },
      "source": [
        "# Atividades"
      ]
    },
    {
      "cell_type": "markdown",
      "metadata": {
        "id": "ym_TsGX5_6Nd"
      },
      "source": [
        "# 1. Prática 1\n",
        "\n",
        "> **Não há necessidade de entrega**. \n",
        "Para esses exercícios, utilizaremos os mesmo dados do módulo 3.\n",
        "\n",
        "Caso você não tenha as informações de **transacoes.csv**, elas estarão disponíveis no material de aula.\n",
        "\n",
        "Siga os seguintes passos para criação da tabela (desconsidere caso você já tenha os dados no seu S3):\n",
        "\n",
        "* Crie uma pasta bucket-transacoes no seu S3 e carregue o arquivo **transacoes.csv**\n",
        "* Volta para o AWS Athena e execute o seguinte comando:\n",
        "\n",
        "```sql\n",
        "CREATE EXTERNAL TABLE transacoes(\n",
        "id_cliente BIGINT,\n",
        "id_transacao BIGINT,\n",
        "valor FLOAT,\n",
        "id_loja STRING)\n",
        "ROW FORMAT SERDE 'org.apache.hadoop.hive.serde2.OpenCSVSerde'\n",
        "WITH SERDEPROPERTIES ('separatorChar' = ',', 'quoteChar' = '\"', 'escapeChar' = '\\\\')\n",
        "STORED AS TEXTFILE\n",
        "LOCATION 's3://bucket-transacoes/'\n",
        "```\n",
        "\n",
        "Utilizaremos a tabela para os exercícios seguintes."
      ]
    },
    {
      "cell_type": "markdown",
      "metadata": {
        "id": "qDxe2l4cMcVa"
      },
      "source": [
        "# **2. Selecionando dados**\n",
        "\n",
        "Vamos testar os comandos and, or, in e between?! Execute as queries e salve o resultado para enviar os exercícios.   \n",
        "\n",
        "## 2.1 Query 1 \n",
        "\n",
        "```sql \n",
        "SELECT *\n",
        "FROM transacoes\n",
        "WHERE valor > 30 AND id_loja = 'magalu';\n",
        "```\n",
        "\n",
        "> **Importante**: entregue os resultados da query com o nome *query1.csv*\n",
        "\n",
        "## 2.2 Query 2 \n",
        "\n",
        "```sql \n",
        "SELECT *\n",
        "FROM transacoes\n",
        "WHERE valor > 30 OR id_loja = 'magalu';\n",
        "```\n",
        "\n",
        "> **Importante**: entregue os resultados da query com o nome *query2.csv*\n",
        "\n",
        "## 2.3 Query 3\n",
        "\n",
        "```sql \n",
        "SELECT *\n",
        "FROM transacoes\n",
        "WHERE id_loja IN ('magalu','subway') AND valor > 10;\n",
        "```\n",
        "\n",
        "> **Importante**: entregue os resultados da query com o nome *query3.csv*\n",
        "\n",
        "## 2.4 Query 4\n",
        "\n",
        "```sql \n",
        "SELECT *\n",
        "FROM transacoes\n",
        "WHERE valor BETWEEN 60.0 AND 1000.0;\n",
        "```\n",
        "\n",
        "> **Importante**: entregue os resultados da query com o nome *query4.csv*"
      ]
    },
    {
      "cell_type": "markdown",
      "metadata": {
        "id": "QJJ92QL9C6fL"
      },
      "source": [
        "# **3. Filtro like e wildcards**\n",
        "\n",
        "Agora é hora de trabalhar com padrões! Execute as queries e salve o resultado para enviar os exercícios.   \n",
        "\n",
        "## 3.1 Query 5 \n",
        "\n",
        "```sql \n",
        "SELECT * \n",
        "FROM transacoes \n",
        "WHERE id_loja LIKE 'mag%'\n",
        "```\n",
        "\n",
        "> **Importante**: entregue os resultados da query com o nome *query5.csv*\n",
        "\n",
        "## 3.2 Query 6\n",
        "\n",
        "```sql \n",
        "SELECT * \n",
        "FROM transacoes \n",
        "WHERE id_loja LIKE '%sh%'\n",
        "```\n",
        "\n",
        "> **Importante**: entregue os resultados da query com o nome *query6.csv*\n",
        "\n"
      ]
    },
    {
      "cell_type": "markdown",
      "metadata": {
        "id": "yprhfZqVDZXL"
      },
      "source": [
        "# **4. Seleção condicional**\n",
        "\n",
        "Chegou a hora de testar a combinação do CASE com o SELECT! Execute a  query e salve o resultado para enviar o  exercício.   \n",
        "\n",
        "## 4.1 Query 7 \n",
        "\n",
        "```sql \n",
        "SELECT id_cliente, id_loja, valor,\n",
        "CASE\n",
        "    WHEN valor > 1000 THEN 'Compra com alto valor'\n",
        "    WHEN valor < 1000 THEN 'Compra com baixo valor'\n",
        "END \n",
        "AS classeValor, \n",
        "CASE\n",
        "    WHEN id_loja IN ('giraffas','subway')  THEN 'alimentacao'\n",
        "    WHEN id_loja IN ('magalu','extra') THEN 'variedade'\n",
        "    WHEN id_loja IN ('postoshell','seveneleven') THEN '24horas'\n",
        "    ELSE 'outros'\n",
        "END \n",
        "AS tipo_compra\n",
        "FROM transacoes;\n",
        "```\n",
        "\n",
        "> **Importante**: entregue os resultados da query com o nome *query7.csv*\n",
        "\n"
      ]
    },
    {
      "cell_type": "markdown",
      "metadata": {},
      "source": [
        "### Resultados:"
      ]
    },
    {
      "cell_type": "code",
      "execution_count": 1,
      "metadata": {},
      "outputs": [],
      "source": [
        "import pandas as pd"
      ]
    },
    {
      "cell_type": "code",
      "execution_count": 2,
      "metadata": {},
      "outputs": [
        {
          "data": {
            "text/html": [
              "<div>\n",
              "<style scoped>\n",
              "    .dataframe tbody tr th:only-of-type {\n",
              "        vertical-align: middle;\n",
              "    }\n",
              "\n",
              "    .dataframe tbody tr th {\n",
              "        vertical-align: top;\n",
              "    }\n",
              "\n",
              "    .dataframe thead th {\n",
              "        text-align: right;\n",
              "    }\n",
              "</style>\n",
              "<table border=\"1\" class=\"dataframe\">\n",
              "  <thead>\n",
              "    <tr style=\"text-align: right;\">\n",
              "      <th></th>\n",
              "      <th>id_cliente</th>\n",
              "      <th>id_transacao</th>\n",
              "      <th>valor</th>\n",
              "      <th>id_loja</th>\n",
              "    </tr>\n",
              "  </thead>\n",
              "  <tbody>\n",
              "    <tr>\n",
              "      <th>0</th>\n",
              "      <td>1</td>\n",
              "      <td>768805383</td>\n",
              "      <td>50.74</td>\n",
              "      <td>magalu</td>\n",
              "    </tr>\n",
              "    <tr>\n",
              "      <th>1</th>\n",
              "      <td>1</td>\n",
              "      <td>76856563</td>\n",
              "      <td>2000.90</td>\n",
              "      <td>magalu</td>\n",
              "    </tr>\n",
              "  </tbody>\n",
              "</table>\n",
              "</div>"
            ],
            "text/plain": [
              "   id_cliente  id_transacao    valor id_loja\n",
              "0           1     768805383    50.74  magalu\n",
              "1           1      76856563  2000.90  magalu"
            ]
          },
          "execution_count": 2,
          "metadata": {},
          "output_type": "execute_result"
        }
      ],
      "source": [
        "# Query 1\n",
        "query1 = pd.read_csv(\"query1.csv\")\n",
        "query1.head()"
      ]
    },
    {
      "cell_type": "code",
      "execution_count": 3,
      "metadata": {},
      "outputs": [
        {
          "data": {
            "text/html": [
              "<div>\n",
              "<style scoped>\n",
              "    .dataframe tbody tr th:only-of-type {\n",
              "        vertical-align: middle;\n",
              "    }\n",
              "\n",
              "    .dataframe tbody tr th {\n",
              "        vertical-align: top;\n",
              "    }\n",
              "\n",
              "    .dataframe thead th {\n",
              "        text-align: right;\n",
              "    }\n",
              "</style>\n",
              "<table border=\"1\" class=\"dataframe\">\n",
              "  <thead>\n",
              "    <tr style=\"text-align: right;\">\n",
              "      <th></th>\n",
              "      <th>id_cliente</th>\n",
              "      <th>id_transacao</th>\n",
              "      <th>valor</th>\n",
              "      <th>id_loja</th>\n",
              "    </tr>\n",
              "  </thead>\n",
              "  <tbody>\n",
              "    <tr>\n",
              "      <th>0</th>\n",
              "      <td>1</td>\n",
              "      <td>768805383</td>\n",
              "      <td>50.74</td>\n",
              "      <td>magalu</td>\n",
              "    </tr>\n",
              "    <tr>\n",
              "      <th>1</th>\n",
              "      <td>2</td>\n",
              "      <td>768805399</td>\n",
              "      <td>30.90</td>\n",
              "      <td>giraffas</td>\n",
              "    </tr>\n",
              "    <tr>\n",
              "      <th>2</th>\n",
              "      <td>3</td>\n",
              "      <td>818770008</td>\n",
              "      <td>110.00</td>\n",
              "      <td>postoshell</td>\n",
              "    </tr>\n",
              "    <tr>\n",
              "      <th>3</th>\n",
              "      <td>1</td>\n",
              "      <td>76856563</td>\n",
              "      <td>2000.90</td>\n",
              "      <td>magalu</td>\n",
              "    </tr>\n",
              "    <tr>\n",
              "      <th>4</th>\n",
              "      <td>4</td>\n",
              "      <td>764545534</td>\n",
              "      <td>50.74</td>\n",
              "      <td>extra</td>\n",
              "    </tr>\n",
              "  </tbody>\n",
              "</table>\n",
              "</div>"
            ],
            "text/plain": [
              "   id_cliente  id_transacao    valor     id_loja\n",
              "0           1     768805383    50.74      magalu\n",
              "1           2     768805399    30.90    giraffas\n",
              "2           3     818770008   110.00  postoshell\n",
              "3           1      76856563  2000.90      magalu\n",
              "4           4     764545534    50.74       extra"
            ]
          },
          "execution_count": 3,
          "metadata": {},
          "output_type": "execute_result"
        }
      ],
      "source": [
        "# Query 2\n",
        "query2 = pd.read_csv(\"query2.csv\")\n",
        "query2.head()"
      ]
    },
    {
      "cell_type": "code",
      "execution_count": 4,
      "metadata": {},
      "outputs": [
        {
          "data": {
            "text/html": [
              "<div>\n",
              "<style scoped>\n",
              "    .dataframe tbody tr th:only-of-type {\n",
              "        vertical-align: middle;\n",
              "    }\n",
              "\n",
              "    .dataframe tbody tr th {\n",
              "        vertical-align: top;\n",
              "    }\n",
              "\n",
              "    .dataframe thead th {\n",
              "        text-align: right;\n",
              "    }\n",
              "</style>\n",
              "<table border=\"1\" class=\"dataframe\">\n",
              "  <thead>\n",
              "    <tr style=\"text-align: right;\">\n",
              "      <th></th>\n",
              "      <th>id_cliente</th>\n",
              "      <th>id_transacao</th>\n",
              "      <th>valor</th>\n",
              "      <th>id_loja</th>\n",
              "    </tr>\n",
              "  </thead>\n",
              "  <tbody>\n",
              "    <tr>\n",
              "      <th>0</th>\n",
              "      <td>1</td>\n",
              "      <td>768805383</td>\n",
              "      <td>50.74</td>\n",
              "      <td>magalu</td>\n",
              "    </tr>\n",
              "    <tr>\n",
              "      <th>1</th>\n",
              "      <td>1</td>\n",
              "      <td>76856563</td>\n",
              "      <td>2000.90</td>\n",
              "      <td>magalu</td>\n",
              "    </tr>\n",
              "    <tr>\n",
              "      <th>2</th>\n",
              "      <td>1</td>\n",
              "      <td>768805383</td>\n",
              "      <td>50.74</td>\n",
              "      <td>magalu</td>\n",
              "    </tr>\n",
              "    <tr>\n",
              "      <th>3</th>\n",
              "      <td>1</td>\n",
              "      <td>76856563</td>\n",
              "      <td>2000.90</td>\n",
              "      <td>magalu</td>\n",
              "    </tr>\n",
              "    <tr>\n",
              "      <th>4</th>\n",
              "      <td>1</td>\n",
              "      <td>767573759</td>\n",
              "      <td>15.70</td>\n",
              "      <td>subway</td>\n",
              "    </tr>\n",
              "  </tbody>\n",
              "</table>\n",
              "</div>"
            ],
            "text/plain": [
              "   id_cliente  id_transacao    valor id_loja\n",
              "0           1     768805383    50.74  magalu\n",
              "1           1      76856563  2000.90  magalu\n",
              "2           1     768805383    50.74  magalu\n",
              "3           1      76856563  2000.90  magalu\n",
              "4           1     767573759    15.70  subway"
            ]
          },
          "execution_count": 4,
          "metadata": {},
          "output_type": "execute_result"
        }
      ],
      "source": [
        "# Query 3\n",
        "query3 = pd.read_csv(\"query3.csv\")\n",
        "query3.head()"
      ]
    },
    {
      "cell_type": "code",
      "execution_count": 5,
      "metadata": {},
      "outputs": [
        {
          "data": {
            "text/html": [
              "<div>\n",
              "<style scoped>\n",
              "    .dataframe tbody tr th:only-of-type {\n",
              "        vertical-align: middle;\n",
              "    }\n",
              "\n",
              "    .dataframe tbody tr th {\n",
              "        vertical-align: top;\n",
              "    }\n",
              "\n",
              "    .dataframe thead th {\n",
              "        text-align: right;\n",
              "    }\n",
              "</style>\n",
              "<table border=\"1\" class=\"dataframe\">\n",
              "  <thead>\n",
              "    <tr style=\"text-align: right;\">\n",
              "      <th></th>\n",
              "      <th>id_cliente</th>\n",
              "      <th>id_transacao</th>\n",
              "      <th>valor</th>\n",
              "      <th>id_loja</th>\n",
              "    </tr>\n",
              "  </thead>\n",
              "  <tbody>\n",
              "    <tr>\n",
              "      <th>0</th>\n",
              "      <td>3</td>\n",
              "      <td>818770008</td>\n",
              "      <td>110.0</td>\n",
              "      <td>postoshell</td>\n",
              "    </tr>\n",
              "  </tbody>\n",
              "</table>\n",
              "</div>"
            ],
            "text/plain": [
              "   id_cliente  id_transacao  valor     id_loja\n",
              "0           3     818770008  110.0  postoshell"
            ]
          },
          "execution_count": 5,
          "metadata": {},
          "output_type": "execute_result"
        }
      ],
      "source": [
        "# Query 4\n",
        "query4 = pd.read_csv(\"query4.csv\")\n",
        "query4.head()"
      ]
    },
    {
      "cell_type": "code",
      "execution_count": 6,
      "metadata": {},
      "outputs": [
        {
          "data": {
            "text/html": [
              "<div>\n",
              "<style scoped>\n",
              "    .dataframe tbody tr th:only-of-type {\n",
              "        vertical-align: middle;\n",
              "    }\n",
              "\n",
              "    .dataframe tbody tr th {\n",
              "        vertical-align: top;\n",
              "    }\n",
              "\n",
              "    .dataframe thead th {\n",
              "        text-align: right;\n",
              "    }\n",
              "</style>\n",
              "<table border=\"1\" class=\"dataframe\">\n",
              "  <thead>\n",
              "    <tr style=\"text-align: right;\">\n",
              "      <th></th>\n",
              "      <th>id_cliente</th>\n",
              "      <th>id_transacao</th>\n",
              "      <th>valor</th>\n",
              "      <th>id_loja</th>\n",
              "    </tr>\n",
              "  </thead>\n",
              "  <tbody>\n",
              "    <tr>\n",
              "      <th>0</th>\n",
              "      <td>1</td>\n",
              "      <td>768805383</td>\n",
              "      <td>50.74</td>\n",
              "      <td>magalu</td>\n",
              "    </tr>\n",
              "    <tr>\n",
              "      <th>1</th>\n",
              "      <td>1</td>\n",
              "      <td>76856563</td>\n",
              "      <td>2000.90</td>\n",
              "      <td>magalu</td>\n",
              "    </tr>\n",
              "  </tbody>\n",
              "</table>\n",
              "</div>"
            ],
            "text/plain": [
              "   id_cliente  id_transacao    valor id_loja\n",
              "0           1     768805383    50.74  magalu\n",
              "1           1      76856563  2000.90  magalu"
            ]
          },
          "execution_count": 6,
          "metadata": {},
          "output_type": "execute_result"
        }
      ],
      "source": [
        "# Query 5\n",
        "query5 = pd.read_csv(\"query5.csv\")\n",
        "query5.head()"
      ]
    },
    {
      "cell_type": "code",
      "execution_count": 7,
      "metadata": {},
      "outputs": [
        {
          "data": {
            "text/html": [
              "<div>\n",
              "<style scoped>\n",
              "    .dataframe tbody tr th:only-of-type {\n",
              "        vertical-align: middle;\n",
              "    }\n",
              "\n",
              "    .dataframe tbody tr th {\n",
              "        vertical-align: top;\n",
              "    }\n",
              "\n",
              "    .dataframe thead th {\n",
              "        text-align: right;\n",
              "    }\n",
              "</style>\n",
              "<table border=\"1\" class=\"dataframe\">\n",
              "  <thead>\n",
              "    <tr style=\"text-align: right;\">\n",
              "      <th></th>\n",
              "      <th>id_cliente</th>\n",
              "      <th>id_transacao</th>\n",
              "      <th>valor</th>\n",
              "      <th>id_loja</th>\n",
              "    </tr>\n",
              "  </thead>\n",
              "  <tbody>\n",
              "    <tr>\n",
              "      <th>0</th>\n",
              "      <td>3</td>\n",
              "      <td>818770008</td>\n",
              "      <td>110.0</td>\n",
              "      <td>postoshell</td>\n",
              "    </tr>\n",
              "    <tr>\n",
              "      <th>1</th>\n",
              "      <td>3</td>\n",
              "      <td>818770008</td>\n",
              "      <td>110.0</td>\n",
              "      <td>postoshell</td>\n",
              "    </tr>\n",
              "    <tr>\n",
              "      <th>2</th>\n",
              "      <td>3</td>\n",
              "      <td>8154567758</td>\n",
              "      <td>1100.0</td>\n",
              "      <td>shopee</td>\n",
              "    </tr>\n",
              "  </tbody>\n",
              "</table>\n",
              "</div>"
            ],
            "text/plain": [
              "   id_cliente  id_transacao   valor     id_loja\n",
              "0           3     818770008   110.0  postoshell\n",
              "1           3     818770008   110.0  postoshell\n",
              "2           3    8154567758  1100.0      shopee"
            ]
          },
          "execution_count": 7,
          "metadata": {},
          "output_type": "execute_result"
        }
      ],
      "source": [
        "# Query 6\n",
        "query6 = pd.read_csv(\"query6.csv\")\n",
        "query6.head()"
      ]
    },
    {
      "cell_type": "code",
      "execution_count": 8,
      "metadata": {},
      "outputs": [
        {
          "data": {
            "text/html": [
              "<div>\n",
              "<style scoped>\n",
              "    .dataframe tbody tr th:only-of-type {\n",
              "        vertical-align: middle;\n",
              "    }\n",
              "\n",
              "    .dataframe tbody tr th {\n",
              "        vertical-align: top;\n",
              "    }\n",
              "\n",
              "    .dataframe thead th {\n",
              "        text-align: right;\n",
              "    }\n",
              "</style>\n",
              "<table border=\"1\" class=\"dataframe\">\n",
              "  <thead>\n",
              "    <tr style=\"text-align: right;\">\n",
              "      <th></th>\n",
              "      <th>id_cliente</th>\n",
              "      <th>id_loja</th>\n",
              "      <th>valor</th>\n",
              "      <th>classeValor</th>\n",
              "      <th>tipo_compra</th>\n",
              "    </tr>\n",
              "  </thead>\n",
              "  <tbody>\n",
              "    <tr>\n",
              "      <th>0</th>\n",
              "      <td>1</td>\n",
              "      <td>magalu</td>\n",
              "      <td>50.74</td>\n",
              "      <td>Compra com baixo valor</td>\n",
              "      <td>variedade</td>\n",
              "    </tr>\n",
              "    <tr>\n",
              "      <th>1</th>\n",
              "      <td>2</td>\n",
              "      <td>giraffas</td>\n",
              "      <td>30.90</td>\n",
              "      <td>Compra com baixo valor</td>\n",
              "      <td>alimentacao</td>\n",
              "    </tr>\n",
              "    <tr>\n",
              "      <th>2</th>\n",
              "      <td>3</td>\n",
              "      <td>postoshell</td>\n",
              "      <td>110.00</td>\n",
              "      <td>Compra com baixo valor</td>\n",
              "      <td>24horas</td>\n",
              "    </tr>\n",
              "    <tr>\n",
              "      <th>3</th>\n",
              "      <td>1</td>\n",
              "      <td>magalu</td>\n",
              "      <td>2000.90</td>\n",
              "      <td>Compra com alto valor</td>\n",
              "      <td>variedade</td>\n",
              "    </tr>\n",
              "    <tr>\n",
              "      <th>4</th>\n",
              "      <td>1</td>\n",
              "      <td>subway</td>\n",
              "      <td>15.70</td>\n",
              "      <td>Compra com baixo valor</td>\n",
              "      <td>alimentacao</td>\n",
              "    </tr>\n",
              "  </tbody>\n",
              "</table>\n",
              "</div>"
            ],
            "text/plain": [
              "   id_cliente     id_loja    valor             classeValor  tipo_compra\n",
              "0           1      magalu    50.74  Compra com baixo valor    variedade\n",
              "1           2    giraffas    30.90  Compra com baixo valor  alimentacao\n",
              "2           3  postoshell   110.00  Compra com baixo valor      24horas\n",
              "3           1      magalu  2000.90   Compra com alto valor    variedade\n",
              "4           1      subway    15.70  Compra com baixo valor  alimentacao"
            ]
          },
          "execution_count": 8,
          "metadata": {},
          "output_type": "execute_result"
        }
      ],
      "source": [
        "# Query 7\n",
        "query7 = pd.read_csv(\"query7.csv\")\n",
        "query7.head()"
      ]
    }
  ],
  "metadata": {
    "colab": {
      "collapsed_sections": [],
      "name": "modulo_4_exercicio.ipynb",
      "provenance": [],
      "toc_visible": true
    },
    "kernelspec": {
      "display_name": "Python 3",
      "name": "python3"
    },
    "language_info": {
      "codemirror_mode": {
        "name": "ipython",
        "version": 3
      },
      "file_extension": ".py",
      "mimetype": "text/x-python",
      "name": "python",
      "nbconvert_exporter": "python",
      "pygments_lexer": "ipython3",
      "version": "3.11.3"
    }
  },
  "nbformat": 4,
  "nbformat_minor": 0
}
